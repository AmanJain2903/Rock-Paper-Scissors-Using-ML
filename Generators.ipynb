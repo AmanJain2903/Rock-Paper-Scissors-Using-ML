{
 "cells": [
  {
   "cell_type": "code",
   "execution_count": 7,
   "metadata": {},
   "outputs": [],
   "source": [
    "import tensorflow as tf\n",
    "from tensorflow.keras.preprocessing.image import ImageDataGenerator"
   ]
  },
  {
   "cell_type": "code",
   "execution_count": 8,
   "metadata": {},
   "outputs": [],
   "source": [
    "# Image pre-process function\n",
    "def preProcess(image, check=1):\n",
    "    if check==0:\n",
    "        return\n",
    "    # Convert to grayscale using TensorFlow\n",
    "    grayscale_image = tf.image.rgb_to_grayscale(image)\n",
    "    # Return a 3D tensor (required by ImageDataGenerator) with repeated channels\n",
    "    return tf.image.grayscale_to_rgb(grayscale_image)"
   ]
  },
  {
   "cell_type": "code",
   "execution_count": null,
   "metadata": {},
   "outputs": [],
   "source": [
    "# Generator for training and validation data\n",
    "def Generator(process = 1, vs = 0.2, rr = 20, wsr = 0.2, hsr = 0.2, sr = 0.2, zr = 0.2, hf = True):\n",
    "    datagen = ImageDataGenerator(\n",
    "        rescale=1./255,   \n",
    "        preprocessing_function=lambda img : preProcess(img, process),      \n",
    "        validation_split=vs,   \n",
    "        rotation_range=rr,    \n",
    "        width_shift_range=wsr,  \n",
    "        height_shift_range=hsr, \n",
    "        shear_range=sr,        \n",
    "        zoom_range=zr,         \n",
    "        horizontal_flip=hf   \n",
    "    )\n",
    "    return datagen"
   ]
  },
  {
   "cell_type": "code",
   "execution_count": 10,
   "metadata": {},
   "outputs": [],
   "source": [
    "# Data Generator for training and validation data\n",
    "def dataGenerator(datagen, datasetPath, shuffle = True, imgSize = (128, 128), batchSize = 32, classMode = \"sparse\", sub = \"training\"):\n",
    "    generator = datagen.flow_from_directory(\n",
    "        datasetPath,\n",
    "        shuffle = True,\n",
    "        target_size=imgSize,\n",
    "        batch_size=batchSize,\n",
    "        class_mode=classMode,\n",
    "        subset=sub\n",
    "    )\n",
    "    return generator"
   ]
  },
  {
   "cell_type": "code",
   "execution_count": null,
   "metadata": {},
   "outputs": [],
   "source": [
    "# Data Generator for testing data\n",
    "def testGenerator(datasetPath, process, imgSize = (128, 128), batchSize = 32, classMode = \"sparse\"):\n",
    "    datagen = ImageDataGenerator(\n",
    "        rescale=1./255,   \n",
    "        preprocessing_function=lambda img : preProcess(img, process)\n",
    "    )\n",
    "    generator = datagen.flow_from_directory(\n",
    "        datasetPath,\n",
    "        shuffle = False,\n",
    "        target_size=imgSize,\n",
    "        batch_size=batchSize,\n",
    "        class_mode=classMode,\n",
    "    )\n",
    "    return generator"
   ]
  }
 ],
 "metadata": {
  "kernelspec": {
   "display_name": "tf-gpu",
   "language": "python",
   "name": "python3"
  },
  "language_info": {
   "codemirror_mode": {
    "name": "ipython",
    "version": 3
   },
   "file_extension": ".py",
   "mimetype": "text/x-python",
   "name": "python",
   "nbconvert_exporter": "python",
   "pygments_lexer": "ipython3",
   "version": "3.11.9"
  }
 },
 "nbformat": 4,
 "nbformat_minor": 2
}
