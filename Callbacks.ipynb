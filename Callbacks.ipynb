{
 "cells": [
  {
   "cell_type": "code",
   "execution_count": null,
   "metadata": {},
   "outputs": [],
   "source": [
    "import tensorflow as tf\n",
    "from sklearn import metrics\n",
    "import numpy as np"
   ]
  },
  {
   "cell_type": "code",
   "execution_count": 5,
   "metadata": {},
   "outputs": [],
   "source": [
    "# EarlyStopping based on F1 score\n",
    "class EarlyStoppingByF1(tf.keras.callbacks.Callback):\n",
    "    def __init__(self, patience=5, delta=0.01, monitor='val_f1_score'):\n",
    "        super(EarlyStoppingByF1, self).__init__()\n",
    "        self.patience = patience\n",
    "        self.delta = delta\n",
    "        self.monitor = monitor\n",
    "        self.bestScore = -np.inf\n",
    "        self.wait = 0\n",
    "\n",
    "    def on_epoch_end(self, epoch, logs=None):\n",
    "        currentScore = logs.get(self.monitor)\n",
    "        if currentScore is None:\n",
    "            return\n",
    "\n",
    "        if currentScore > self.bestScore + self.delta:\n",
    "            self.bestScore = currentScore\n",
    "            self.wait = 0\n",
    "        else:\n",
    "            self.wait += 1\n",
    "\n",
    "        if self.wait >= self.patience:\n",
    "            print(f'\\nEarly stopping triggered at epoch {epoch + 1} due to lack of improvement in {self.monitor}')\n",
    "            self.model.stop_training = True"
   ]
  },
  {
   "cell_type": "code",
   "execution_count": 7,
   "metadata": {},
   "outputs": [],
   "source": [
    "# Precision, Recall, F1-Score Calculation Callback\n",
    "class SklearnMetricsCallback(tf.keras.callbacks.Callback):\n",
    "    def __init__(self, validationData=None, earlyStoppingMonitor=None, batchSize=32):\n",
    "        super(SklearnMetricsCallback, self).__init__()\n",
    "        self.validationData = validationData\n",
    "        self.earlyStoppingMonitor = earlyStoppingMonitor\n",
    "        self.batchSize = batchSize\n",
    "\n",
    "    def on_epoch_end(self, epoch, logs=None):\n",
    "        # Use validation data generator to calculate precision, recall, and f1 score\n",
    "        if self.validationData:\n",
    "            # Get a batch of data from the validation generator\n",
    "            valData, valLabels = next(self.validationData)\n",
    "            # Make predictions on the batch\n",
    "            yPred = self.model.predict(valData, batch_size=self.batchSize)\n",
    "            yPredClasses = np.argmax(yPred, axis=1)\n",
    "\n",
    "            # Here val_labels are sparse (integer encoded)\n",
    "            yTrue = valLabels\n",
    "\n",
    "            # Calculate precision, recall, and f1 score using sklearn metrics\n",
    "            precision = metrics.precision_score(yTrue, yPredClasses, average='macro')\n",
    "            recall = metrics.recall_score(yTrue, yPredClasses, average='macro')\n",
    "            f1 = metrics.f1_score(yTrue, yPredClasses, average='macro')\n",
    "\n",
    "            # Print the metrics for this epoch\n",
    "            print(f'\\nEpoch {epoch + 1} Metrics: Precision = {precision:.4f}, Recall = {recall:.4f}, F1-Score = {f1:.4f}')\n",
    "            \n",
    "            # Log them into the `logs` dictionary to record them\n",
    "            logs['val_precision'] = precision\n",
    "            logs['val_recall'] = recall\n",
    "            logs['val_f1_score'] = f1\n",
    "\n",
    "            # If EarlyStopping is set, trigger early stopping here based on F1 score\n",
    "            if self.earlyStoppingMonitor:\n",
    "                self.earlyStoppingMonitor.on_epoch_end(epoch, logs)\n"
   ]
  }
 ],
 "metadata": {
  "kernelspec": {
   "display_name": "tf-gpu",
   "language": "python",
   "name": "python3"
  },
  "language_info": {
   "codemirror_mode": {
    "name": "ipython",
    "version": 3
   },
   "file_extension": ".py",
   "mimetype": "text/x-python",
   "name": "python",
   "nbconvert_exporter": "python",
   "pygments_lexer": "ipython3",
   "version": "3.11.9"
  }
 },
 "nbformat": 4,
 "nbformat_minor": 2
}
