{
 "cells": [
  {
   "cell_type": "code",
   "execution_count": 23,
   "metadata": {},
   "outputs": [],
   "source": [
    "import tensorflow as tf\n",
    "from tensorflow.keras import models, layers\n",
    "import numpy as np\n",
    "from sklearn import metrics\n",
    "import import_ipynb\n",
    "import Callbacks"
   ]
  },
  {
   "cell_type": "code",
   "execution_count": 21,
   "metadata": {},
   "outputs": [],
   "source": [
    "def build_model(inputShape=(128, 128, 3), numClasses=3):\n",
    "\n",
    "    model = models.Sequential()\n",
    "\n",
    "    # Convolutional and Pooling Layers\n",
    "    model.add(layers.Conv2D(32, (3, 3), activation='relu', input_shape=inputShape))\n",
    "    model.add(layers.MaxPooling2D((2, 2)))\n",
    "\n",
    "    model.add(layers.Conv2D(64, (3, 3), activation='relu'))\n",
    "    model.add(layers.MaxPooling2D((2, 2)))\n",
    "\n",
    "    model.add(layers.Conv2D(128, (3, 3), activation='relu'))\n",
    "    model.add(layers.MaxPooling2D((2, 2)))\n",
    "\n",
    "    model.add(layers.Conv2D(128, (3, 3), activation='relu'))\n",
    "    model.add(layers.MaxPooling2D((2, 2)))\n",
    "\n",
    "    # Flatten the feature map and add Dense layers\n",
    "    model.add(layers.Flatten())\n",
    "    model.add(layers.Dense(512, activation='relu'))\n",
    "    model.add(layers.Dropout(0.5))  # Dropout to prevent overfitting\n",
    "    model.add(layers.Dense(numClasses, activation='softmax'))  # Output layer\n",
    "\n",
    "    # Compile the model\n",
    "    model.compile(optimizer='adam', loss='sparse_categorical_crossentropy')\n",
    "\n",
    "    return model"
   ]
  },
  {
   "cell_type": "code",
   "execution_count": 22,
   "metadata": {},
   "outputs": [],
   "source": [
    "def trainModel(model, train, validation, epochs, device):\n",
    "    # Initialize Callbacks\n",
    "    earlyStoppingF1 = Callbacks.EarlyStoppingByF1(patience=5, monitor='val_f1_score')\n",
    "    sklearnMetricsCallback = Callbacks.SklearnMetricsCallback(validationData=validation, earlyStoppingMonitor=earlyStoppingF1)\n",
    "\n",
    "    if device==\"GPU\":\n",
    "        print(\"Training on GPU\\n\")\n",
    "        with tf.device(\"/GPU:0\"):\n",
    "            history = model.fit(train, epochs=epochs, validation_data=validation, callbacks=[sklearnMetricsCallback, earlyStoppingF1])\n",
    "    else:\n",
    "        print(\"Training on CPU\\n\")\n",
    "        with tf.device(\"/CPU:0\"):\n",
    "            history = model.fit(train, epochs=epochs, validation_data=validation, callbacks=[sklearnMetricsCallback, earlyStoppingF1])\n",
    "            \n",
    "    return history"
   ]
  },
  {
   "cell_type": "code",
   "execution_count": null,
   "metadata": {},
   "outputs": [],
   "source": [
    "def plotModelHistory(history):\n",
    "    pass"
   ]
  },
  {
   "cell_type": "code",
   "execution_count": 25,
   "metadata": {},
   "outputs": [],
   "source": [
    "def evaluateModel(model, test):\n",
    "    y_pred = model.predict(test, verbose=1)\n",
    "    y_pred_classes = np.argmax(y_pred, axis=1)\n",
    "\n",
    "    y_true = test.classes\n",
    "\n",
    "    class_names = test.class_indices\n",
    "    class_names = {v: k for k, v in class_names.items()}\n",
    "    \n",
    "    report = metrics.classification_report(y_true, y_pred_classes, target_names=list(class_names.values()))\n",
    "\n",
    "    return report"
   ]
  }
 ],
 "metadata": {
  "kernelspec": {
   "display_name": "tf-gpu",
   "language": "python",
   "name": "python3"
  },
  "language_info": {
   "codemirror_mode": {
    "name": "ipython",
    "version": 3
   },
   "file_extension": ".py",
   "mimetype": "text/x-python",
   "name": "python",
   "nbconvert_exporter": "python",
   "pygments_lexer": "ipython3",
   "version": "3.11.9"
  }
 },
 "nbformat": 4,
 "nbformat_minor": 2
}
